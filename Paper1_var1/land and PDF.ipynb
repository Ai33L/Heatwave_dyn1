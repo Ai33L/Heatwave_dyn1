{
 "cells": [
  {
   "cell_type": "code",
   "execution_count": 2,
   "id": "d14bd7f3",
   "metadata": {},
   "outputs": [
    {
     "data": {
      "image/png": "[encoded data removed]",
      "text/plain": [
       "<Figure size 432x288 with 1 Axes>"
      ]
     },
     "metadata": {
      "needs_background": "light"
     },
     "output_type": "display_data"
    }
   ],
   "source": [
    "# %matplotlib notebook\n",
    "import gzip\n",
    "import pickle\n",
    "import matplotlib.pyplot as plt\n",
    "import numpy as np\n",
    "import xarray as xr\n",
    "\n",
    "import os\n",
    "os.chdir('/home/scratch/Abel_data') \n",
    "\n",
    "common=xr.open_zarr(\"common\")\n",
    "    \n",
    "lon=common['longitude'].values[:]\n",
    "lat=common['latitude'].values[:]\n",
    "Area_type=common['area_type'].values[:]\n",
    "\n",
    "plt.contourf(lon, lat, Area_type.astype(str)=='land', cmap='Paired')\n",
    "\n",
    "with gzip.open('obs_mask10', 'rb') as f:\n",
    "    mask= pickle.load(f)\n",
    "\n",
    "lon_mask=np.arange(100,110,1)\n",
    "lat_mask=np.arange(41,50,1)\n",
    "    \n",
    "plt.contourf(lon_mask, lat_mask, np.ones((9,10)), hatches=['////////'], alpha=0.2)\n",
    "\n",
    "plt.ylabel('Lat')\n",
    "plt.xlabel('Lon')\n",
    "plt.savefig('/home/data/lab_abel/Paper1/land', bbox_inches='tight',dpi=900)"
   ]
  },
  {
   "cell_type": "code",
   "execution_count": 6,
   "id": "0ce10eee",
   "metadata": {},
   "outputs": [
    {
     "name": "stdout",
     "output_type": "stream",
     "text": [
      "288.78336680853545 3.5097077958274774 -0.34823644572129014\n"
     ]
    },
    {
     "data": {
      "image/png": "[encoded data removed]",
      "text/plain": [
       "<Figure size 648x252 with 2 Axes>"
      ]
     },
     "metadata": {
      "needs_background": "light"
     },
     "output_type": "display_data"
    }
   ],
   "source": [
    "# %matplotlib notebook\n",
    "import gzip\n",
    "import pickle\n",
    "import matplotlib.pyplot as plt\n",
    "import numpy as np\n",
    "import xarray as xr\n",
    "\n",
    "\n",
    "# fig, axs = plt.subplots(1, 2, figsize=(9, 3.5))\n",
    "fig, axs = plt.subplots(1, 2, figsize=(9, 3.5), gridspec_kw={'width_ratios': [1.25, 1]})\n",
    "# Remove horizontal space between axes\n",
    "\n",
    "import os\n",
    "os.chdir('/home/scratch/Abel_data') \n",
    "\n",
    "common=xr.open_zarr(\"common\")\n",
    "    \n",
    "lon=common['longitude'].values[:]\n",
    "lat=common['latitude'].values[:]\n",
    "Area_type=common['area_type'].values[:]\n",
    "\n",
    "axs[0].contourf(lon, lat, Area_type.astype(str)=='land', cmap='Paired')\n",
    "\n",
    "with gzip.open('obs_mask10', 'rb') as f:\n",
    "    mask= pickle.load(f)\n",
    "\n",
    "lon_mask=np.arange(100,110,1)\n",
    "lat_mask=np.arange(41,50,1)\n",
    "    \n",
    "axs[0].contourf(lon_mask, lat_mask, np.ones((9,10)), hatches=['////////'], alpha=0.2)\n",
    "\n",
    "axs[0].set(xlabel='Lon',ylabel='Lat')\n",
    "\n",
    "############################################################################################################\n",
    "\n",
    "\n",
    "import warnings\n",
    "warnings.filterwarnings(\"ignore\")\n",
    "import scipy\n",
    "import pickle\n",
    "import matplotlib.pyplot as plt\n",
    "import numpy as np\n",
    "from statsmodels.graphics import tsaplots\n",
    "import gzip\n",
    "import seaborn\n",
    "\n",
    "lat1=14\n",
    "lat2=18\n",
    "lon1=36\n",
    "lon2=40\n",
    "\n",
    "common=xr.open_zarr(\"/home/scratch/Abel_data/long_run2/common\",consolidated=False)\n",
    "lat=np.radians(common['latitude']).sel(lat=range(lat1,lat2),lon=range(lon1,lon2)).values[:]\n",
    "\n",
    "st=0\n",
    "temp_field=0\n",
    "for i in range(1,51):\n",
    "    for j in range(1,21):\n",
    "        D=xr.open_zarr(\"/home/scratch/Abel_data/long_run2/run\"+str(i)+\"/year\"+str(j),consolidated=False)\n",
    "        if st==0:\n",
    "            temp_field=D['air_temperature'][:,0].sel(lat=range(lat1,lat2),lon=range(lon1,lon2)).values[:]\n",
    "            st=1\n",
    "        elif st==1:\n",
    "            temp_field = np.concatenate((temp_field, \n",
    "                                         D['air_temperature'][:,0].sel(lat=range(lat1,lat2),lon=range(lon1,lon2))), axis=0)\n",
    "\n",
    "T=(temp_field*np.cos(lat)).sum(axis=(1,2))/(np.cos(lat).sum())\n",
    "\n",
    "import os\n",
    "os.chdir('/home/scratch/Abel_data/long_run2')  \n",
    "\n",
    "# with gzip.open('A_comb', 'rb') as f:\n",
    "#     T=pickle.load(f)[:]\n",
    "\n",
    "seaborn.distplot(ax=axs[1], a=T, kde=True, hist=False, label='long_run', color='red')\n",
    "print(np.mean(T), np.std(T), scipy.stats.skew(T))\n",
    "\n",
    "axs[1].set(xlabel='$T_{a}$ (K)',ylabel='PDF')\n",
    "axs[1].grid()\n",
    "\n",
    "plt.tight_layout()\n",
    "plt.savefig('/home/data/lab_abel/Paper1_var1/land', bbox_inches='tight',dpi=900)"
   ]
  },
  {
   "cell_type": "code",
   "execution_count": null,
   "id": "15f54dd5",
   "metadata": {},
   "outputs": [],
   "source": []
  }
 ],
 "metadata": {
  "kernelspec": {
   "display_name": "Python 3 (ipykernel)",
   "language": "python",
   "name": "python3"
  },
  "language_info": {
   "codemirror_mode": {
    "name": "ipython",
    "version": 3
   },
   "file_extension": ".py",
   "mimetype": "text/x-python",
   "name": "python",
   "nbconvert_exporter": "python",
   "pygments_lexer": "ipython3",
   "version": "3.8.10"
  }
 },
 "nbformat": 4,
 "nbformat_minor": 5
}

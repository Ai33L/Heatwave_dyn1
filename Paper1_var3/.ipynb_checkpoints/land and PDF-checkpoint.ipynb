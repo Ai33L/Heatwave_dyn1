{
 "cells": [
  {
   "cell_type": "code",
   "execution_count": 1,
   "id": "d14bd7f3",
   "metadata": {},
   "outputs": [
    {
     "name": "stderr",
     "output_type": "stream",
     "text": [
      "/tmp/ipykernel_168384/3208713679.py:11: RuntimeWarning: Failed to open Zarr store with consolidated metadata, falling back to try reading non-consolidated metadata. This is typically much slower for opening a dataset. To silence this warning, consider:\n",
      "1. Consolidating metadata in this existing store with zarr.consolidate_metadata().\n",
      "2. Explicitly setting consolidated=False, to avoid trying to read consolidate metadata, or\n",
      "3. Explicitly setting consolidated=True, to raise an error in this case instead of falling back to try reading non-consolidated metadata.\n",
      "  common=xr.open_zarr(\"common\")\n"
     ]
    },
    {
     "data": {
      "image/png": "[encoded data removed]",
      "text/plain": [
       "<Figure size 432x288 with 1 Axes>"
      ]
     },
     "metadata": {
      "needs_background": "light"
     },
     "output_type": "display_data"
    }
   ],
   "source": [
    "# %matplotlib notebook\n",
    "import gzip\n",
    "import pickle\n",
    "import matplotlib.pyplot as plt\n",
    "import numpy as np\n",
    "import xarray as xr\n",
    "\n",
    "import os\n",
    "os.chdir('/home/scratch/Abel_data') \n",
    "\n",
    "common=xr.open_zarr(\"common\")\n",
    "    \n",
    "lon=common['longitude'].values[:]\n",
    "lat=common['latitude'].values[:]\n",
    "Area_type=common['area_type'].values[:]\n",
    "\n",
    "plt.contourf(lon, lat, Area_type.astype(str)=='land', cmap='Paired')\n",
    "\n",
    "with gzip.open('obs_mask10', 'rb') as f:\n",
    "    mask= pickle.load(f)\n",
    "\n",
    "lon_mask=np.arange(100,110,1)\n",
    "lat_mask=np.arange(41,50,1)\n",
    "    \n",
    "plt.contourf(lon_mask, lat_mask, np.ones((9,10)), hatches=['////////'], alpha=0.2)\n",
    "\n",
    "plt.ylabel('Lat')\n",
    "plt.xlabel('Lon')\n",
    "plt.savefig('/home/data/lab_abel/Paper1/land', bbox_inches='tight',dpi=900)"
   ]
  },
  {
   "cell_type": "code",
   "execution_count": 18,
   "id": "0ce10eee",
   "metadata": {},
   "outputs": [
    {
     "name": "stdout",
     "output_type": "stream",
     "text": [
      "288.78320687220935 3.57314680736118 -0.343715073210671\n"
     ]
    },
    {
     "data": {
      "image/png": "[encoded data removed]",
      "text/plain": [
       "<Figure size 648x252 with 2 Axes>"
      ]
     },
     "metadata": {
      "needs_background": "light"
     },
     "output_type": "display_data"
    }
   ],
   "source": [
    "# %matplotlib notebook\n",
    "import gzip\n",
    "import pickle\n",
    "import matplotlib.pyplot as plt\n",
    "import numpy as np\n",
    "import xarray as xr\n",
    "\n",
    "\n",
    "# fig, axs = plt.subplots(1, 2, figsize=(9, 3.5))\n",
    "fig, axs = plt.subplots(1, 2, figsize=(9, 3.5), gridspec_kw={'width_ratios': [2, 1]})\n",
    "# Remove horizontal space between axes\n",
    "\n",
    "import os\n",
    "os.chdir('/home/scratch/Abel_data') \n",
    "\n",
    "common=xr.open_zarr(\"common\")\n",
    "    \n",
    "lon=common['longitude'].values[:]\n",
    "lat=common['latitude'].values[:]\n",
    "Area_type=common['area_type'].values[:]\n",
    "\n",
    "axs[0].contourf(lon, lat, Area_type.astype(str)=='land', cmap='Paired')\n",
    "\n",
    "with gzip.open('obs_mask10', 'rb') as f:\n",
    "    mask= pickle.load(f)\n",
    "\n",
    "lon_mask=np.arange(100,110,1)\n",
    "lat_mask=np.arange(41,50,1)\n",
    "    \n",
    "axs[0].contourf(lon_mask, lat_mask, np.ones((9,10)), hatches=['////////'], alpha=0.2)\n",
    "\n",
    "axs[0].set(xlabel='Lon',ylabel='Lat')\n",
    "\n",
    "############################################################################################################\n",
    "\n",
    "\n",
    "import warnings\n",
    "warnings.filterwarnings(\"ignore\")\n",
    "import scipy\n",
    "import pickle\n",
    "import matplotlib.pyplot as plt\n",
    "import numpy as np\n",
    "from statsmodels.graphics import tsaplots\n",
    "import gzip\n",
    "import seaborn\n",
    "\n",
    "import os\n",
    "os.chdir('/home/scratch/Abel_data/long_run2')  \n",
    "\n",
    "with gzip.open('A_comb', 'rb') as f:\n",
    "    T=pickle.load(f)[::72]\n",
    "\n",
    "seaborn.distplot(ax=axs[1], a=T, kde=True, hist=False, label='long_run', color='red')\n",
    "print(np.mean(T), np.std(T), scipy.stats.skew(T))\n",
    "\n",
    "axs[1].set(xlabel='$T_{a}$ (K)',ylabel='PDF')\n",
    "axs[1].grid()\n",
    "\n",
    "plt.tight_layout()\n",
    "plt.savefig('/home/data/lab_abel/Paper1/land', bbox_inches='tight',dpi=900)"
   ]
  },
  {
   "cell_type": "code",
   "execution_count": null,
   "id": "186e6342",
   "metadata": {},
   "outputs": [],
   "source": []
  }
 ],
 "metadata": {
  "kernelspec": {
   "display_name": "Python 3 (ipykernel)",
   "language": "python",
   "name": "python3"
  },
  "language_info": {
   "codemirror_mode": {
    "name": "ipython",
    "version": 3
   },
   "file_extension": ".py",
   "mimetype": "text/x-python",
   "name": "python",
   "nbconvert_exporter": "python",
   "pygments_lexer": "ipython3",
   "version": "3.8.10"
  }
 },
 "nbformat": 4,
 "nbformat_minor": 5
}
